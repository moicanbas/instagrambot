{
 "cells": [
  {
   "cell_type": "code",
   "execution_count": 21,
   "id": "70158798",
   "metadata": {
    "scrolled": true
   },
   "outputs": [
    {
     "name": "stderr",
     "output_type": "stream",
     "text": [
      "C:\\Users\\moica\\AppData\\Local\\Temp\\ipykernel_10264\\3584413087.py:9: DeprecationWarning: executable_path has been deprecated, please pass in a Service object\n",
      "  driver = webdriver.Chrome(executable_path=r\"C:\\Users\\moica\\OneDrive\\Escritorio\\Trabajos Fiverr\\Python\\Comment Bot\\chromedriver\")\n"
     ]
    }
   ],
   "source": [
    "from selenium import webdriver\n",
    "from selenium.webdriver.common.keys import Keys\n",
    "import time\n",
    "import random\n",
    "\n",
    "name=\"cocina_facil5\"\n",
    "passw=\"salchipapa19\"\n",
    "\n",
    "driver = webdriver.Chrome(executable_path=r\"C:\\Users\\moica\\OneDrive\\Escritorio\\Trabajos Fiverr\\Python\\Comment Bot\\chromedriver\")\n",
    "driver.get('https://www.instagram.com')"
   ]
  },
  {
   "cell_type": "code",
   "execution_count": 22,
   "id": "3d379405",
   "metadata": {
    "scrolled": true
   },
   "outputs": [
    {
     "name": "stderr",
     "output_type": "stream",
     "text": [
      "C:\\Users\\moica\\AppData\\Local\\Temp\\ipykernel_10264\\2120389590.py:1: DeprecationWarning: find_element_by_css_selector is deprecated. Please use find_element(by=By.CSS_SELECTOR, value=css_selector) instead\n",
      "  username= driver.find_element_by_css_selector(\"[name='username']\")\n",
      "C:\\Users\\moica\\AppData\\Local\\Temp\\ipykernel_10264\\2120389590.py:2: DeprecationWarning: find_element_by_css_selector is deprecated. Please use find_element(by=By.CSS_SELECTOR, value=css_selector) instead\n",
      "  password= driver.find_element_by_css_selector(\"[name='password']\")\n"
     ]
    },
    {
     "name": "stdout",
     "output_type": "stream",
     "text": [
      "login succesfull\n"
     ]
    },
    {
     "name": "stderr",
     "output_type": "stream",
     "text": [
      "C:\\Users\\moica\\AppData\\Local\\Temp\\ipykernel_10264\\2120389590.py:9: DeprecationWarning: find_element_by_css_selector is deprecated. Please use find_element(by=By.CSS_SELECTOR, value=css_selector) instead\n",
      "  driver.find_element_by_css_selector(\"button\").click()\n"
     ]
    }
   ],
   "source": [
    "username= driver.find_element_by_css_selector(\"[name='username']\")\n",
    "password= driver.find_element_by_css_selector(\"[name='password']\")\n",
    "\n",
    "#time.sleep(random.randint(3,7))\n",
    "username.send_keys(name)\n",
    "time.sleep(1)\n",
    "password.send_keys(passw)\n",
    "time.sleep(2)\n",
    "driver.find_element_by_css_selector(\"button\").click()\n",
    "print('login succesfull')"
   ]
  },
  {
   "cell_type": "code",
   "execution_count": 27,
   "id": "533d2cf1",
   "metadata": {},
   "outputs": [
    {
     "name": "stderr",
     "output_type": "stream",
     "text": [
      "C:\\Users\\moica\\AppData\\Local\\Temp\\ipykernel_10264\\3064115471.py:2: DeprecationWarning: find_element_by_xpath is deprecated. Please use find_element(by=By.XPATH, value=xpath) instead\n",
      "  info_se= driver.find_element_by_xpath('//button[text()=\"Ahora no\"]')\n",
      "C:\\Users\\moica\\AppData\\Local\\Temp\\ipykernel_10264\\3064115471.py:8: DeprecationWarning: find_element_by_xpath is deprecated. Please use find_element(by=By.XPATH, value=xpath) instead\n",
      "  acti_n= driver.find_element_by_xpath('//button[text()=\"Ahora no\"]')\n"
     ]
    }
   ],
   "source": [
    "try:\n",
    "    info_se= driver.find_element_by_xpath('//button[text()=\"Ahora no\"]')\n",
    "    info_se.click()\n",
    "    time.sleep(2)\n",
    "except:\n",
    "    pass\n",
    "try:\n",
    "    acti_n= driver.find_element_by_xpath('//button[text()=\"Ahora no\"]')\n",
    "    acti_n.click()\n",
    "    time.sleep(2)\n",
    "except:\n",
    "      pass\n",
    "time.sleep(random.randint(1,3))"
   ]
  },
  {
   "cell_type": "code",
   "execution_count": 25,
   "id": "7bd2a4e9",
   "metadata": {},
   "outputs": [
    {
     "name": "stdout",
     "output_type": "stream",
     "text": [
      "write the hashtag without #: python\n"
     ]
    }
   ],
   "source": [
    "hashtag= input('write the hashtag without #: ')"
   ]
  },
  {
   "cell_type": "code",
   "execution_count": 28,
   "id": "6f4cb30a",
   "metadata": {},
   "outputs": [],
   "source": [
    "driver.get('https://www.instagram.com/explore/tags/'+hashtag)"
   ]
  },
  {
   "cell_type": "code",
   "execution_count": null,
   "id": "5d4c2a12",
   "metadata": {},
   "outputs": [],
   "source": []
  },
  {
   "cell_type": "code",
   "execution_count": null,
   "id": "c442c272",
   "metadata": {},
   "outputs": [],
   "source": []
  }
 ],
 "metadata": {
  "kernelspec": {
   "display_name": "Python 3 (ipykernel)",
   "language": "python",
   "name": "python3"
  },
  "language_info": {
   "codemirror_mode": {
    "name": "ipython",
    "version": 3
   },
   "file_extension": ".py",
   "mimetype": "text/x-python",
   "name": "python",
   "nbconvert_exporter": "python",
   "pygments_lexer": "ipython3",
   "version": "3.10.4"
  }
 },
 "nbformat": 4,
 "nbformat_minor": 5
}
