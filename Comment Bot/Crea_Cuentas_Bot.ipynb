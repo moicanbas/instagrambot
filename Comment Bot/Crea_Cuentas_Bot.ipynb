{
 "cells": [
  {
   "cell_type": "code",
   "execution_count": 1,
   "id": "93c2b4cc",
   "metadata": {},
   "outputs": [
    {
     "name": "stderr",
     "output_type": "stream",
     "text": [
      "C:\\Users\\moica\\AppData\\Local\\Temp\\ipykernel_10556\\2202384991.py:6: DeprecationWarning: executable_path has been deprecated, please pass in a Service object\n",
      "  driver = webdriver.Chrome(executable_path=r\"C:\\Users\\moica\\OneDrive\\Escritorio\\Trabajos Fiverr\\Python\\Comment Bot\\chromedriver\")\n"
     ]
    }
   ],
   "source": [
    "from selenium import webdriver\n",
    "from selenium.webdriver.common.keys import Keys\n",
    "import time\n",
    "import random\n",
    "\n",
    "driver = webdriver.Chrome(executable_path=r\"C:\\Users\\moica\\OneDrive\\Escritorio\\Trabajos Fiverr\\Python\\Comment Bot\\chromedriver\")\n",
    "driver.get('https://10minutemail.com/')\n"
   ]
  },
  {
   "cell_type": "code",
   "execution_count": null,
   "id": "c60b5edf",
   "metadata": {},
   "outputs": [],
   "source": []
  }
 ],
 "metadata": {
  "kernelspec": {
   "display_name": "Python 3 (ipykernel)",
   "language": "python",
   "name": "python3"
  },
  "language_info": {
   "codemirror_mode": {
    "name": "ipython",
    "version": 3
   },
   "file_extension": ".py",
   "mimetype": "text/x-python",
   "name": "python",
   "nbconvert_exporter": "python",
   "pygments_lexer": "ipython3",
   "version": "3.10.4"
  }
 },
 "nbformat": 4,
 "nbformat_minor": 5
}
