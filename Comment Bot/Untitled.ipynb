{
 "cells": [
  {
   "cell_type": "code",
   "execution_count": 105,
   "id": "62aea450",
   "metadata": {},
   "outputs": [
    {
     "name": "stderr",
     "output_type": "stream",
     "text": [
      "C:\\Users\\moica\\AppData\\Local\\Temp\\ipykernel_6056\\1575011382.py:11: DeprecationWarning: executable_path has been deprecated, please pass in a Service object\n",
      "  driver = webdriver.Chrome(executable_path=r\"C:\\Users\\moica\\OneDrive\\Escritorio\\Trabajos Fiverr\\Python\\Comment Bot\\chromedriver\")\n"
     ]
    }
   ],
   "source": [
    "from selenium import webdriver\n",
    "from selenium.webdriver.common.keys import Keys\n",
    "import time\n",
    "from selenium.webdriver.support.ui import WebDriverWait\n",
    "from selenium.webdriver.support import expected_conditions as EC\n",
    "from selenium.webdriver.common.by import By\n",
    "\n",
    "name=\"cocina_facil5\"\n",
    "passw=\"salchipapa19\"\n",
    "\n",
    "driver = webdriver.Chrome(executable_path=r\"C:\\Users\\moica\\OneDrive\\Escritorio\\Trabajos Fiverr\\Python\\Comment Bot\\chromedriver\")\n",
    "driver.get('https://instagram.com')"
   ]
  },
  {
   "cell_type": "code",
   "execution_count": 103,
   "id": "19cd67ef",
   "metadata": {
    "scrolled": true
   },
   "outputs": [
    {
     "name": "stderr",
     "output_type": "stream",
     "text": [
      "C:\\Users\\moica\\AppData\\Local\\Temp\\ipykernel_6056\\1688903014.py:1: DeprecationWarning: find_element_by_css_selector is deprecated. Please use find_element(by=By.CSS_SELECTOR, value=css_selector) instead\n",
      "  username= driver.find_element_by_css_selector(\"[name='username']\")\n"
     ]
    },
    {
     "ename": "WebDriverException",
     "evalue": "Message: chrome not reachable\n  (Session info: chrome=102.0.5005.115)\nStacktrace:\nBacktrace:\n\tOrdinal0 [0x0050D953+2414931]\n\tOrdinal0 [0x0049F5E1+1963489]\n\tOrdinal0 [0x0038C580+836992]\n\tOrdinal0 [0x003801E2+786914]\n\tOrdinal0 [0x00380A18+789016]\n\tOrdinal0 [0x003822F2+795378]\n\tOrdinal0 [0x0037BCA9+769193]\n\tOrdinal0 [0x0038DA30+842288]\n\tOrdinal0 [0x003E3FF2+1196018]\n\tOrdinal0 [0x003D42B6+1131190]\n\tOrdinal0 [0x003AE860+976992]\n\tOrdinal0 [0x003AF756+980822]\n\tGetHandleVerifier [0x0077CC62+2510274]\n\tGetHandleVerifier [0x0076F760+2455744]\n\tGetHandleVerifier [0x0059EABA+551962]\n\tGetHandleVerifier [0x0059D916+547446]\n\tOrdinal0 [0x004A5F3B+1990459]\n\tOrdinal0 [0x004AA898+2009240]\n\tOrdinal0 [0x004AA985+2009477]\n\tOrdinal0 [0x004B3AD1+2046673]\n\tBaseThreadInitThunk [0x7680FA29+25]\n\tRtlGetAppContainerNamedObjectPath [0x77047A9E+286]\n\tRtlGetAppContainerNamedObjectPath [0x77047A6E+238]\n",
     "output_type": "error",
     "traceback": [
      "\u001b[1;31m---------------------------------------------------------------------------\u001b[0m",
      "\u001b[1;31mWebDriverException\u001b[0m                        Traceback (most recent call last)",
      "Input \u001b[1;32mIn [103]\u001b[0m, in \u001b[0;36m<cell line: 1>\u001b[1;34m()\u001b[0m\n\u001b[1;32m----> 1\u001b[0m username\u001b[38;5;241m=\u001b[39m \u001b[43mdriver\u001b[49m\u001b[38;5;241;43m.\u001b[39;49m\u001b[43mfind_element_by_css_selector\u001b[49m\u001b[43m(\u001b[49m\u001b[38;5;124;43m\"\u001b[39;49m\u001b[38;5;124;43m[name=\u001b[39;49m\u001b[38;5;124;43m'\u001b[39;49m\u001b[38;5;124;43musername\u001b[39;49m\u001b[38;5;124;43m'\u001b[39;49m\u001b[38;5;124;43m]\u001b[39;49m\u001b[38;5;124;43m\"\u001b[39;49m\u001b[43m)\u001b[49m\n\u001b[0;32m      2\u001b[0m password\u001b[38;5;241m=\u001b[39m driver\u001b[38;5;241m.\u001b[39mfind_element_by_css_selector(\u001b[38;5;124m\"\u001b[39m\u001b[38;5;124m[name=\u001b[39m\u001b[38;5;124m'\u001b[39m\u001b[38;5;124mpassword\u001b[39m\u001b[38;5;124m'\u001b[39m\u001b[38;5;124m]\u001b[39m\u001b[38;5;124m\"\u001b[39m)\n\u001b[0;32m      3\u001b[0m login\u001b[38;5;241m=\u001b[39m driver\u001b[38;5;241m.\u001b[39mfind_element_by_css_selector(\u001b[38;5;124m\"\u001b[39m\u001b[38;5;124mbutton\u001b[39m\u001b[38;5;124m\"\u001b[39m)\n",
      "File \u001b[1;32m~\\AppData\\Local\\Programs\\Python\\Python310\\lib\\site-packages\\selenium\\webdriver\\remote\\webdriver.py:814\u001b[0m, in \u001b[0;36mWebDriver.find_element_by_css_selector\u001b[1;34m(self, css_selector)\u001b[0m\n\u001b[0;32m    792\u001b[0m \u001b[38;5;124;03m\"\"\"\u001b[39;00m\n\u001b[0;32m    793\u001b[0m \u001b[38;5;124;03mFinds an element by css selector.\u001b[39;00m\n\u001b[0;32m    794\u001b[0m \n\u001b[1;32m   (...)\u001b[0m\n\u001b[0;32m    807\u001b[0m \u001b[38;5;124;03m        element = driver.find_element_by_css_selector('#foo')\u001b[39;00m\n\u001b[0;32m    808\u001b[0m \u001b[38;5;124;03m\"\"\"\u001b[39;00m\n\u001b[0;32m    809\u001b[0m warnings\u001b[38;5;241m.\u001b[39mwarn(\n\u001b[0;32m    810\u001b[0m     \u001b[38;5;124m\"\u001b[39m\u001b[38;5;124mfind_element_by_css_selector is deprecated. Please use find_element(by=By.CSS_SELECTOR, value=css_selector) instead\u001b[39m\u001b[38;5;124m\"\u001b[39m,\n\u001b[0;32m    811\u001b[0m     \u001b[38;5;167;01mDeprecationWarning\u001b[39;00m,\n\u001b[0;32m    812\u001b[0m     stacklevel\u001b[38;5;241m=\u001b[39m\u001b[38;5;241m2\u001b[39m,\n\u001b[0;32m    813\u001b[0m )\n\u001b[1;32m--> 814\u001b[0m \u001b[38;5;28;01mreturn\u001b[39;00m \u001b[38;5;28;43mself\u001b[39;49m\u001b[38;5;241;43m.\u001b[39;49m\u001b[43mfind_element\u001b[49m\u001b[43m(\u001b[49m\u001b[43mby\u001b[49m\u001b[38;5;241;43m=\u001b[39;49m\u001b[43mBy\u001b[49m\u001b[38;5;241;43m.\u001b[39;49m\u001b[43mCSS_SELECTOR\u001b[49m\u001b[43m,\u001b[49m\u001b[43m \u001b[49m\u001b[43mvalue\u001b[49m\u001b[38;5;241;43m=\u001b[39;49m\u001b[43mcss_selector\u001b[49m\u001b[43m)\u001b[49m\n",
      "File \u001b[1;32m~\\AppData\\Local\\Programs\\Python\\Python310\\lib\\site-packages\\selenium\\webdriver\\remote\\webdriver.py:1251\u001b[0m, in \u001b[0;36mWebDriver.find_element\u001b[1;34m(self, by, value)\u001b[0m\n\u001b[0;32m   1248\u001b[0m     by \u001b[38;5;241m=\u001b[39m By\u001b[38;5;241m.\u001b[39mCSS_SELECTOR\n\u001b[0;32m   1249\u001b[0m     value \u001b[38;5;241m=\u001b[39m \u001b[38;5;124m'\u001b[39m\u001b[38;5;124m[name=\u001b[39m\u001b[38;5;124m\"\u001b[39m\u001b[38;5;132;01m%s\u001b[39;00m\u001b[38;5;124m\"\u001b[39m\u001b[38;5;124m]\u001b[39m\u001b[38;5;124m'\u001b[39m \u001b[38;5;241m%\u001b[39m value\n\u001b[1;32m-> 1251\u001b[0m \u001b[38;5;28;01mreturn\u001b[39;00m \u001b[38;5;28;43mself\u001b[39;49m\u001b[38;5;241;43m.\u001b[39;49m\u001b[43mexecute\u001b[49m\u001b[43m(\u001b[49m\u001b[43mCommand\u001b[49m\u001b[38;5;241;43m.\u001b[39;49m\u001b[43mFIND_ELEMENT\u001b[49m\u001b[43m,\u001b[49m\u001b[43m \u001b[49m\u001b[43m{\u001b[49m\n\u001b[0;32m   1252\u001b[0m \u001b[43m    \u001b[49m\u001b[38;5;124;43m'\u001b[39;49m\u001b[38;5;124;43musing\u001b[39;49m\u001b[38;5;124;43m'\u001b[39;49m\u001b[43m:\u001b[49m\u001b[43m \u001b[49m\u001b[43mby\u001b[49m\u001b[43m,\u001b[49m\n\u001b[0;32m   1253\u001b[0m \u001b[43m    \u001b[49m\u001b[38;5;124;43m'\u001b[39;49m\u001b[38;5;124;43mvalue\u001b[39;49m\u001b[38;5;124;43m'\u001b[39;49m\u001b[43m:\u001b[49m\u001b[43m \u001b[49m\u001b[43mvalue\u001b[49m\u001b[43m}\u001b[49m\u001b[43m)\u001b[49m[\u001b[38;5;124m'\u001b[39m\u001b[38;5;124mvalue\u001b[39m\u001b[38;5;124m'\u001b[39m]\n",
      "File \u001b[1;32m~\\AppData\\Local\\Programs\\Python\\Python310\\lib\\site-packages\\selenium\\webdriver\\remote\\webdriver.py:430\u001b[0m, in \u001b[0;36mWebDriver.execute\u001b[1;34m(self, driver_command, params)\u001b[0m\n\u001b[0;32m    428\u001b[0m response \u001b[38;5;241m=\u001b[39m \u001b[38;5;28mself\u001b[39m\u001b[38;5;241m.\u001b[39mcommand_executor\u001b[38;5;241m.\u001b[39mexecute(driver_command, params)\n\u001b[0;32m    429\u001b[0m \u001b[38;5;28;01mif\u001b[39;00m response:\n\u001b[1;32m--> 430\u001b[0m     \u001b[38;5;28;43mself\u001b[39;49m\u001b[38;5;241;43m.\u001b[39;49m\u001b[43merror_handler\u001b[49m\u001b[38;5;241;43m.\u001b[39;49m\u001b[43mcheck_response\u001b[49m\u001b[43m(\u001b[49m\u001b[43mresponse\u001b[49m\u001b[43m)\u001b[49m\n\u001b[0;32m    431\u001b[0m     response[\u001b[38;5;124m'\u001b[39m\u001b[38;5;124mvalue\u001b[39m\u001b[38;5;124m'\u001b[39m] \u001b[38;5;241m=\u001b[39m \u001b[38;5;28mself\u001b[39m\u001b[38;5;241m.\u001b[39m_unwrap_value(\n\u001b[0;32m    432\u001b[0m         response\u001b[38;5;241m.\u001b[39mget(\u001b[38;5;124m'\u001b[39m\u001b[38;5;124mvalue\u001b[39m\u001b[38;5;124m'\u001b[39m, \u001b[38;5;28;01mNone\u001b[39;00m))\n\u001b[0;32m    433\u001b[0m     \u001b[38;5;28;01mreturn\u001b[39;00m response\n",
      "File \u001b[1;32m~\\AppData\\Local\\Programs\\Python\\Python310\\lib\\site-packages\\selenium\\webdriver\\remote\\errorhandler.py:247\u001b[0m, in \u001b[0;36mErrorHandler.check_response\u001b[1;34m(self, response)\u001b[0m\n\u001b[0;32m    245\u001b[0m         alert_text \u001b[38;5;241m=\u001b[39m value[\u001b[38;5;124m'\u001b[39m\u001b[38;5;124malert\u001b[39m\u001b[38;5;124m'\u001b[39m]\u001b[38;5;241m.\u001b[39mget(\u001b[38;5;124m'\u001b[39m\u001b[38;5;124mtext\u001b[39m\u001b[38;5;124m'\u001b[39m)\n\u001b[0;32m    246\u001b[0m     \u001b[38;5;28;01mraise\u001b[39;00m exception_class(message, screen, stacktrace, alert_text)  \u001b[38;5;66;03m# type: ignore[call-arg]  # mypy is not smart enough here\u001b[39;00m\n\u001b[1;32m--> 247\u001b[0m \u001b[38;5;28;01mraise\u001b[39;00m exception_class(message, screen, stacktrace)\n",
      "\u001b[1;31mWebDriverException\u001b[0m: Message: chrome not reachable\n  (Session info: chrome=102.0.5005.115)\nStacktrace:\nBacktrace:\n\tOrdinal0 [0x0050D953+2414931]\n\tOrdinal0 [0x0049F5E1+1963489]\n\tOrdinal0 [0x0038C580+836992]\n\tOrdinal0 [0x003801E2+786914]\n\tOrdinal0 [0x00380A18+789016]\n\tOrdinal0 [0x003822F2+795378]\n\tOrdinal0 [0x0037BCA9+769193]\n\tOrdinal0 [0x0038DA30+842288]\n\tOrdinal0 [0x003E3FF2+1196018]\n\tOrdinal0 [0x003D42B6+1131190]\n\tOrdinal0 [0x003AE860+976992]\n\tOrdinal0 [0x003AF756+980822]\n\tGetHandleVerifier [0x0077CC62+2510274]\n\tGetHandleVerifier [0x0076F760+2455744]\n\tGetHandleVerifier [0x0059EABA+551962]\n\tGetHandleVerifier [0x0059D916+547446]\n\tOrdinal0 [0x004A5F3B+1990459]\n\tOrdinal0 [0x004AA898+2009240]\n\tOrdinal0 [0x004AA985+2009477]\n\tOrdinal0 [0x004B3AD1+2046673]\n\tBaseThreadInitThunk [0x7680FA29+25]\n\tRtlGetAppContainerNamedObjectPath [0x77047A9E+286]\n\tRtlGetAppContainerNamedObjectPath [0x77047A6E+238]\n"
     ]
    }
   ],
   "source": [
    "username= driver.find_element_by_css_selector(\"[name='username']\")\n",
    "password= driver.find_element_by_css_selector(\"[name='password']\")\n",
    "login= driver.find_element_by_css_selector(\"button\")\n",
    "time.sleep(random)\n",
    "driver.get('https://instagram.com/'+name)"
   ]
  },
  {
   "cell_type": "code",
   "execution_count": 104,
   "id": "4cd5d899",
   "metadata": {},
   "outputs": [
    {
     "name": "stderr",
     "output_type": "stream",
     "text": [
      "C:\\Users\\moica\\AppData\\Local\\Temp\\ipykernel_6056\\3876955387.py:1: DeprecationWarning: find_element_by_xpath is deprecated. Please use find_element(by=By.XPATH, value=xpath) instead\n",
      "  followers=driver.find_element_by_xpath('//ul[@class=\"_aa_7\"]/li[3]').click()\n"
     ]
    },
    {
     "ename": "WebDriverException",
     "evalue": "Message: chrome not reachable\n  (Session info: chrome=102.0.5005.115)\nStacktrace:\nBacktrace:\n\tOrdinal0 [0x0050D953+2414931]\n\tOrdinal0 [0x0049F5E1+1963489]\n\tOrdinal0 [0x0038C580+836992]\n\tOrdinal0 [0x003801E2+786914]\n\tOrdinal0 [0x00380A18+789016]\n\tOrdinal0 [0x003822F2+795378]\n\tOrdinal0 [0x0037BCA9+769193]\n\tOrdinal0 [0x0038DA30+842288]\n\tOrdinal0 [0x003E3FF2+1196018]\n\tOrdinal0 [0x003D42B6+1131190]\n\tOrdinal0 [0x003AE860+976992]\n\tOrdinal0 [0x003AF756+980822]\n\tGetHandleVerifier [0x0077CC62+2510274]\n\tGetHandleVerifier [0x0076F760+2455744]\n\tGetHandleVerifier [0x0059EABA+551962]\n\tGetHandleVerifier [0x0059D916+547446]\n\tOrdinal0 [0x004A5F3B+1990459]\n\tOrdinal0 [0x004AA898+2009240]\n\tOrdinal0 [0x004AA985+2009477]\n\tOrdinal0 [0x004B3AD1+2046673]\n\tBaseThreadInitThunk [0x7680FA29+25]\n\tRtlGetAppContainerNamedObjectPath [0x77047A9E+286]\n\tRtlGetAppContainerNamedObjectPath [0x77047A6E+238]\n",
     "output_type": "error",
     "traceback": [
      "\u001b[1;31m---------------------------------------------------------------------------\u001b[0m",
      "\u001b[1;31mWebDriverException\u001b[0m                        Traceback (most recent call last)",
      "Input \u001b[1;32mIn [104]\u001b[0m, in \u001b[0;36m<cell line: 1>\u001b[1;34m()\u001b[0m\n\u001b[1;32m----> 1\u001b[0m followers\u001b[38;5;241m=\u001b[39m\u001b[43mdriver\u001b[49m\u001b[38;5;241;43m.\u001b[39;49m\u001b[43mfind_element_by_xpath\u001b[49m\u001b[43m(\u001b[49m\u001b[38;5;124;43m'\u001b[39;49m\u001b[38;5;124;43m//ul[@class=\u001b[39;49m\u001b[38;5;124;43m\"\u001b[39;49m\u001b[38;5;124;43m_aa_7\u001b[39;49m\u001b[38;5;124;43m\"\u001b[39;49m\u001b[38;5;124;43m]/li[3]\u001b[39;49m\u001b[38;5;124;43m'\u001b[39;49m\u001b[43m)\u001b[49m\u001b[38;5;241m.\u001b[39mclick()\n",
      "File \u001b[1;32m~\\AppData\\Local\\Programs\\Python\\Python310\\lib\\site-packages\\selenium\\webdriver\\remote\\webdriver.py:526\u001b[0m, in \u001b[0;36mWebDriver.find_element_by_xpath\u001b[1;34m(self, xpath)\u001b[0m\n\u001b[0;32m    504\u001b[0m \u001b[38;5;124;03m\"\"\"\u001b[39;00m\n\u001b[0;32m    505\u001b[0m \u001b[38;5;124;03mFinds an element by xpath.\u001b[39;00m\n\u001b[0;32m    506\u001b[0m \n\u001b[1;32m   (...)\u001b[0m\n\u001b[0;32m    519\u001b[0m \u001b[38;5;124;03m        element = driver.find_element_by_xpath('//div/td[1]')\u001b[39;00m\n\u001b[0;32m    520\u001b[0m \u001b[38;5;124;03m\"\"\"\u001b[39;00m\n\u001b[0;32m    521\u001b[0m warnings\u001b[38;5;241m.\u001b[39mwarn(\n\u001b[0;32m    522\u001b[0m     \u001b[38;5;124m\"\u001b[39m\u001b[38;5;124mfind_element_by_xpath is deprecated. Please use find_element(by=By.XPATH, value=xpath) instead\u001b[39m\u001b[38;5;124m\"\u001b[39m,\n\u001b[0;32m    523\u001b[0m     \u001b[38;5;167;01mDeprecationWarning\u001b[39;00m,\n\u001b[0;32m    524\u001b[0m     stacklevel\u001b[38;5;241m=\u001b[39m\u001b[38;5;241m2\u001b[39m,\n\u001b[0;32m    525\u001b[0m )\n\u001b[1;32m--> 526\u001b[0m \u001b[38;5;28;01mreturn\u001b[39;00m \u001b[38;5;28;43mself\u001b[39;49m\u001b[38;5;241;43m.\u001b[39;49m\u001b[43mfind_element\u001b[49m\u001b[43m(\u001b[49m\u001b[43mby\u001b[49m\u001b[38;5;241;43m=\u001b[39;49m\u001b[43mBy\u001b[49m\u001b[38;5;241;43m.\u001b[39;49m\u001b[43mXPATH\u001b[49m\u001b[43m,\u001b[49m\u001b[43m \u001b[49m\u001b[43mvalue\u001b[49m\u001b[38;5;241;43m=\u001b[39;49m\u001b[43mxpath\u001b[49m\u001b[43m)\u001b[49m\n",
      "File \u001b[1;32m~\\AppData\\Local\\Programs\\Python\\Python310\\lib\\site-packages\\selenium\\webdriver\\remote\\webdriver.py:1251\u001b[0m, in \u001b[0;36mWebDriver.find_element\u001b[1;34m(self, by, value)\u001b[0m\n\u001b[0;32m   1248\u001b[0m     by \u001b[38;5;241m=\u001b[39m By\u001b[38;5;241m.\u001b[39mCSS_SELECTOR\n\u001b[0;32m   1249\u001b[0m     value \u001b[38;5;241m=\u001b[39m \u001b[38;5;124m'\u001b[39m\u001b[38;5;124m[name=\u001b[39m\u001b[38;5;124m\"\u001b[39m\u001b[38;5;132;01m%s\u001b[39;00m\u001b[38;5;124m\"\u001b[39m\u001b[38;5;124m]\u001b[39m\u001b[38;5;124m'\u001b[39m \u001b[38;5;241m%\u001b[39m value\n\u001b[1;32m-> 1251\u001b[0m \u001b[38;5;28;01mreturn\u001b[39;00m \u001b[38;5;28;43mself\u001b[39;49m\u001b[38;5;241;43m.\u001b[39;49m\u001b[43mexecute\u001b[49m\u001b[43m(\u001b[49m\u001b[43mCommand\u001b[49m\u001b[38;5;241;43m.\u001b[39;49m\u001b[43mFIND_ELEMENT\u001b[49m\u001b[43m,\u001b[49m\u001b[43m \u001b[49m\u001b[43m{\u001b[49m\n\u001b[0;32m   1252\u001b[0m \u001b[43m    \u001b[49m\u001b[38;5;124;43m'\u001b[39;49m\u001b[38;5;124;43musing\u001b[39;49m\u001b[38;5;124;43m'\u001b[39;49m\u001b[43m:\u001b[49m\u001b[43m \u001b[49m\u001b[43mby\u001b[49m\u001b[43m,\u001b[49m\n\u001b[0;32m   1253\u001b[0m \u001b[43m    \u001b[49m\u001b[38;5;124;43m'\u001b[39;49m\u001b[38;5;124;43mvalue\u001b[39;49m\u001b[38;5;124;43m'\u001b[39;49m\u001b[43m:\u001b[49m\u001b[43m \u001b[49m\u001b[43mvalue\u001b[49m\u001b[43m}\u001b[49m\u001b[43m)\u001b[49m[\u001b[38;5;124m'\u001b[39m\u001b[38;5;124mvalue\u001b[39m\u001b[38;5;124m'\u001b[39m]\n",
      "File \u001b[1;32m~\\AppData\\Local\\Programs\\Python\\Python310\\lib\\site-packages\\selenium\\webdriver\\remote\\webdriver.py:430\u001b[0m, in \u001b[0;36mWebDriver.execute\u001b[1;34m(self, driver_command, params)\u001b[0m\n\u001b[0;32m    428\u001b[0m response \u001b[38;5;241m=\u001b[39m \u001b[38;5;28mself\u001b[39m\u001b[38;5;241m.\u001b[39mcommand_executor\u001b[38;5;241m.\u001b[39mexecute(driver_command, params)\n\u001b[0;32m    429\u001b[0m \u001b[38;5;28;01mif\u001b[39;00m response:\n\u001b[1;32m--> 430\u001b[0m     \u001b[38;5;28;43mself\u001b[39;49m\u001b[38;5;241;43m.\u001b[39;49m\u001b[43merror_handler\u001b[49m\u001b[38;5;241;43m.\u001b[39;49m\u001b[43mcheck_response\u001b[49m\u001b[43m(\u001b[49m\u001b[43mresponse\u001b[49m\u001b[43m)\u001b[49m\n\u001b[0;32m    431\u001b[0m     response[\u001b[38;5;124m'\u001b[39m\u001b[38;5;124mvalue\u001b[39m\u001b[38;5;124m'\u001b[39m] \u001b[38;5;241m=\u001b[39m \u001b[38;5;28mself\u001b[39m\u001b[38;5;241m.\u001b[39m_unwrap_value(\n\u001b[0;32m    432\u001b[0m         response\u001b[38;5;241m.\u001b[39mget(\u001b[38;5;124m'\u001b[39m\u001b[38;5;124mvalue\u001b[39m\u001b[38;5;124m'\u001b[39m, \u001b[38;5;28;01mNone\u001b[39;00m))\n\u001b[0;32m    433\u001b[0m     \u001b[38;5;28;01mreturn\u001b[39;00m response\n",
      "File \u001b[1;32m~\\AppData\\Local\\Programs\\Python\\Python310\\lib\\site-packages\\selenium\\webdriver\\remote\\errorhandler.py:247\u001b[0m, in \u001b[0;36mErrorHandler.check_response\u001b[1;34m(self, response)\u001b[0m\n\u001b[0;32m    245\u001b[0m         alert_text \u001b[38;5;241m=\u001b[39m value[\u001b[38;5;124m'\u001b[39m\u001b[38;5;124malert\u001b[39m\u001b[38;5;124m'\u001b[39m]\u001b[38;5;241m.\u001b[39mget(\u001b[38;5;124m'\u001b[39m\u001b[38;5;124mtext\u001b[39m\u001b[38;5;124m'\u001b[39m)\n\u001b[0;32m    246\u001b[0m     \u001b[38;5;28;01mraise\u001b[39;00m exception_class(message, screen, stacktrace, alert_text)  \u001b[38;5;66;03m# type: ignore[call-arg]  # mypy is not smart enough here\u001b[39;00m\n\u001b[1;32m--> 247\u001b[0m \u001b[38;5;28;01mraise\u001b[39;00m exception_class(message, screen, stacktrace)\n",
      "\u001b[1;31mWebDriverException\u001b[0m: Message: chrome not reachable\n  (Session info: chrome=102.0.5005.115)\nStacktrace:\nBacktrace:\n\tOrdinal0 [0x0050D953+2414931]\n\tOrdinal0 [0x0049F5E1+1963489]\n\tOrdinal0 [0x0038C580+836992]\n\tOrdinal0 [0x003801E2+786914]\n\tOrdinal0 [0x00380A18+789016]\n\tOrdinal0 [0x003822F2+795378]\n\tOrdinal0 [0x0037BCA9+769193]\n\tOrdinal0 [0x0038DA30+842288]\n\tOrdinal0 [0x003E3FF2+1196018]\n\tOrdinal0 [0x003D42B6+1131190]\n\tOrdinal0 [0x003AE860+976992]\n\tOrdinal0 [0x003AF756+980822]\n\tGetHandleVerifier [0x0077CC62+2510274]\n\tGetHandleVerifier [0x0076F760+2455744]\n\tGetHandleVerifier [0x0059EABA+551962]\n\tGetHandleVerifier [0x0059D916+547446]\n\tOrdinal0 [0x004A5F3B+1990459]\n\tOrdinal0 [0x004AA898+2009240]\n\tOrdinal0 [0x004AA985+2009477]\n\tOrdinal0 [0x004B3AD1+2046673]\n\tBaseThreadInitThunk [0x7680FA29+25]\n\tRtlGetAppContainerNamedObjectPath [0x77047A9E+286]\n\tRtlGetAppContainerNamedObjectPath [0x77047A6E+238]\n"
     ]
    }
   ],
   "source": [
    "followers=driver.find_element_by_xpath('//ul[@class=\"_aa_7\"]/li[3]').click()"
   ]
  },
  {
   "cell_type": "code",
   "execution_count": 88,
   "id": "74b16d04",
   "metadata": {},
   "outputs": [
    {
     "name": "stdout",
     "output_type": "stream",
     "text": [
      "2\n"
     ]
    },
    {
     "name": "stderr",
     "output_type": "stream",
     "text": [
      "C:\\Users\\moica\\AppData\\Local\\Temp\\ipykernel_6056\\3093283327.py:1: DeprecationWarning: find_element_by_xpath is deprecated. Please use find_element(by=By.XPATH, value=xpath) instead\n",
      "  cant_followers=driver.find_element_by_xpath('//ul[@class=\"_aa_7\"]/li[3]//span')\n"
     ]
    }
   ],
   "source": [
    "cant_followers=driver.find_element_by_xpath('//ul[@class=\"_aa_7\"]/li[3]//span')\n",
    "\n",
    "val = int(cant_followers.text)/12\n",
    "if not val%2==0:\n",
    "    val+=1\n",
    "val=int(val)\n",
    "print(val)"
   ]
  },
  {
   "cell_type": "code",
   "execution_count": 89,
   "id": "dae6c2d1",
   "metadata": {},
   "outputs": [],
   "source": [
    "for i in range(val):\n",
    "    driver.execute_script(\"\"\"\n",
    "    var scrollt= document.querySelector('div[role=\"dialog\"] ._aano')\n",
    "    scrollt.scrollTop =scrollt.scrollHeight\n",
    "    \"\"\")\n",
    "    time.sleep(2.3)\n",
    "    #_ab8w  _ab94 _ab99 _ab9f _ab9m _ab9p  _abc0"
   ]
  },
  {
   "cell_type": "code",
   "execution_count": 90,
   "id": "f36658bf",
   "metadata": {},
   "outputs": [
    {
     "name": "stderr",
     "output_type": "stream",
     "text": [
      "C:\\Users\\moica\\AppData\\Local\\Temp\\ipykernel_6056\\2500597665.py:1: DeprecationWarning: find_elements_by_xpath is deprecated. Please use find_elements(by=By.XPATH, value=xpath) instead\n",
      "  seg= driver.find_elements_by_xpath('//div[@class=\"_aae-\"]/li/div/div[1]/div[2]/div/span/a')\n"
     ]
    }
   ],
   "source": [
    "seg= driver.find_elements_by_xpath('//div[@class=\"_aae-\"]/li/div/div[1]/div[2]/div/span/a')"
   ]
  },
  {
   "cell_type": "code",
   "execution_count": 68,
   "id": "10676463",
   "metadata": {},
   "outputs": [
    {
     "name": "stdout",
     "output_type": "stream",
     "text": [
      "somos_beauty\n"
     ]
    }
   ],
   "source": [
    "print(seg[1].text)"
   ]
  },
  {
   "cell_type": "code",
   "execution_count": 91,
   "id": "012bd40b",
   "metadata": {},
   "outputs": [],
   "source": [
    "seg=[i.text for i in seg]"
   ]
  },
  {
   "cell_type": "code",
   "execution_count": 70,
   "id": "97d1e056",
   "metadata": {},
   "outputs": [
    {
     "data": {
      "text/plain": [
       "['yumothings_',\n",
       " 'somos_beauty',\n",
       " 'elpointdelapedrera',\n",
       " 'stephanyperlaza16',\n",
       " 'draglorialexandra',\n",
       " 'emanuelfontalvo596',\n",
       " 'ericklaslou_',\n",
       " 'valery.store2',\n",
       " 'mbellezasamaria',\n",
       " 'kevin.salas03',\n",
       " 'luciaprice14',\n",
       " 'jhonkill_yt_',\n",
       " 'steven.meza28',\n",
       " 'jovenesen_supresencia',\n",
       " '7209nell',\n",
       " 'melani.melo.944',\n",
       " 'bocaditos_shesha',\n",
       " 'exposaludy',\n",
       " 'pm.variedades',\n",
       " 'marcelavaldes499',\n",
       " 'mau_woom',\n",
       " 'juan_carmona1591']"
      ]
     },
     "execution_count": 70,
     "metadata": {},
     "output_type": "execute_result"
    }
   ],
   "source": [
    "seg"
   ]
  },
  {
   "cell_type": "code",
   "execution_count": 92,
   "id": "822ffe64",
   "metadata": {},
   "outputs": [],
   "source": [
    "\n",
    "driver.get('https://www.instagram.com/'+seg[0])\n",
    "time.sleep(2)\n",
    "    "
   ]
  },
  {
   "cell_type": "code",
   "execution_count": 94,
   "id": "1896546a",
   "metadata": {
    "scrolled": true
   },
   "outputs": [
    {
     "name": "stderr",
     "output_type": "stream",
     "text": [
      "C:\\Users\\moica\\AppData\\Local\\Temp\\ipykernel_6056\\4055614060.py:1: DeprecationWarning: find_elements_by_xpath is deprecated. Please use find_elements(by=By.XPATH, value=xpath) instead\n",
      "  last_post= driver.find_elements_by_xpath('//div[@class=\"_ac7v _aang\"]/div/a')\n"
     ]
    },
    {
     "name": "stdout",
     "output_type": "stream",
     "text": [
      "https://www.instagram.com/p/Ce1CVztOyrt/\n"
     ]
    }
   ],
   "source": [
    "last_post= driver.find_elements_by_xpath('//div[@class=\"_ac7v _aang\"]/div/a')\n",
    "post= last_post[0].get_attribute('href')\n",
    "print(post)\n",
    "driver.get(post)"
   ]
  },
  {
   "cell_type": "code",
   "execution_count": 95,
   "id": "39be8ae5",
   "metadata": {},
   "outputs": [
    {
     "name": "stderr",
     "output_type": "stream",
     "text": [
      "C:\\Users\\moica\\AppData\\Local\\Temp\\ipykernel_6056\\942201407.py:1: DeprecationWarning: find_element_by_xpath is deprecated. Please use find_element(by=By.XPATH, value=xpath) instead\n",
      "  driver.find_element_by_xpath('//section[@class=\"_aamu _aat0\"]/span[2]/button').click()\n"
     ]
    }
   ],
   "source": [
    "driver.find_element_by_xpath('//section[@class=\"_aamu _aat0\"]/span[2]/button').click()"
   ]
  },
  {
   "cell_type": "code",
   "execution_count": 97,
   "id": "92bbe2af",
   "metadata": {},
   "outputs": [
    {
     "name": "stderr",
     "output_type": "stream",
     "text": [
      "C:\\Users\\moica\\AppData\\Local\\Temp\\ipykernel_6056\\1248077900.py:1: DeprecationWarning: find_element_by_xpath is deprecated. Please use find_element(by=By.XPATH, value=xpath) instead\n",
      "  write=driver.find_element_by_xpath('//form[@class=\"_aao9\"]/textarea')\n"
     ]
    }
   ],
   "source": [
    "write=driver.find_element_by_xpath('//form[@class=\"_aao9\"]/textarea')\n",
    "write.send_keys('nice photo')"
   ]
  },
  {
   "cell_type": "code",
   "execution_count": 98,
   "id": "42d7ec93",
   "metadata": {},
   "outputs": [
    {
     "name": "stderr",
     "output_type": "stream",
     "text": [
      "C:\\Users\\moica\\AppData\\Local\\Temp\\ipykernel_6056\\2719716398.py:1: DeprecationWarning: find_element_by_xpath is deprecated. Please use find_element(by=By.XPATH, value=xpath) instead\n",
      "  driver.find_element_by_xpath('//form[@class=\"_aao9\"]/button').click()\n"
     ]
    }
   ],
   "source": [
    "driver.find_element_by_xpath('//form[@class=\"_aao9\"]/button').click()"
   ]
  },
  {
   "cell_type": "code",
   "execution_count": 102,
   "id": "f100f8ab",
   "metadata": {},
   "outputs": [
    {
     "ename": "WebDriverException",
     "evalue": "Message: chrome not reachable\n  (Session info: chrome=102.0.5005.115)\nStacktrace:\nBacktrace:\n\tOrdinal0 [0x0050D953+2414931]\n\tOrdinal0 [0x0049F5E1+1963489]\n\tOrdinal0 [0x0038C580+836992]\n\tOrdinal0 [0x003801E2+786914]\n\tOrdinal0 [0x00380A18+789016]\n\tOrdinal0 [0x003822F2+795378]\n\tOrdinal0 [0x0037BCA9+769193]\n\tOrdinal0 [0x0038DA30+842288]\n\tOrdinal0 [0x003E3FF2+1196018]\n\tOrdinal0 [0x003D42B6+1131190]\n\tOrdinal0 [0x003AE860+976992]\n\tOrdinal0 [0x003AF756+980822]\n\tGetHandleVerifier [0x0077CC62+2510274]\n\tGetHandleVerifier [0x0076F760+2455744]\n\tGetHandleVerifier [0x0059EABA+551962]\n\tGetHandleVerifier [0x0059D916+547446]\n\tOrdinal0 [0x004A5F3B+1990459]\n\tOrdinal0 [0x004AA898+2009240]\n\tOrdinal0 [0x004AA985+2009477]\n\tOrdinal0 [0x004B3AD1+2046673]\n\tBaseThreadInitThunk [0x7680FA29+25]\n\tRtlGetAppContainerNamedObjectPath [0x77047A9E+286]\n\tRtlGetAppContainerNamedObjectPath [0x77047A6E+238]\n",
     "output_type": "error",
     "traceback": [
      "\u001b[1;31m---------------------------------------------------------------------------\u001b[0m",
      "\u001b[1;31mWebDriverException\u001b[0m                        Traceback (most recent call last)",
      "Input \u001b[1;32mIn [102]\u001b[0m, in \u001b[0;36m<cell line: 1>\u001b[1;34m()\u001b[0m\n\u001b[1;32m----> 1\u001b[0m \u001b[43mdriver\u001b[49m\u001b[38;5;241;43m.\u001b[39;49m\u001b[43mget\u001b[49m\u001b[43m(\u001b[49m\u001b[38;5;124;43m'\u001b[39;49m\u001b[38;5;124;43mhttps://www.instagram.com/kevin.salas03/\u001b[39;49m\u001b[38;5;124;43m'\u001b[39;49m\u001b[43m)\u001b[49m\n",
      "File \u001b[1;32m~\\AppData\\Local\\Programs\\Python\\Python310\\lib\\site-packages\\selenium\\webdriver\\remote\\webdriver.py:442\u001b[0m, in \u001b[0;36mWebDriver.get\u001b[1;34m(self, url)\u001b[0m\n\u001b[0;32m    438\u001b[0m \u001b[38;5;28;01mdef\u001b[39;00m \u001b[38;5;21mget\u001b[39m(\u001b[38;5;28mself\u001b[39m, url: \u001b[38;5;28mstr\u001b[39m) \u001b[38;5;241m-\u001b[39m\u001b[38;5;241m>\u001b[39m \u001b[38;5;28;01mNone\u001b[39;00m:\n\u001b[0;32m    439\u001b[0m     \u001b[38;5;124;03m\"\"\"\u001b[39;00m\n\u001b[0;32m    440\u001b[0m \u001b[38;5;124;03m    Loads a web page in the current browser session.\u001b[39;00m\n\u001b[0;32m    441\u001b[0m \u001b[38;5;124;03m    \"\"\"\u001b[39;00m\n\u001b[1;32m--> 442\u001b[0m     \u001b[38;5;28;43mself\u001b[39;49m\u001b[38;5;241;43m.\u001b[39;49m\u001b[43mexecute\u001b[49m\u001b[43m(\u001b[49m\u001b[43mCommand\u001b[49m\u001b[38;5;241;43m.\u001b[39;49m\u001b[43mGET\u001b[49m\u001b[43m,\u001b[49m\u001b[43m \u001b[49m\u001b[43m{\u001b[49m\u001b[38;5;124;43m'\u001b[39;49m\u001b[38;5;124;43murl\u001b[39;49m\u001b[38;5;124;43m'\u001b[39;49m\u001b[43m:\u001b[49m\u001b[43m \u001b[49m\u001b[43murl\u001b[49m\u001b[43m}\u001b[49m\u001b[43m)\u001b[49m\n",
      "File \u001b[1;32m~\\AppData\\Local\\Programs\\Python\\Python310\\lib\\site-packages\\selenium\\webdriver\\remote\\webdriver.py:430\u001b[0m, in \u001b[0;36mWebDriver.execute\u001b[1;34m(self, driver_command, params)\u001b[0m\n\u001b[0;32m    428\u001b[0m response \u001b[38;5;241m=\u001b[39m \u001b[38;5;28mself\u001b[39m\u001b[38;5;241m.\u001b[39mcommand_executor\u001b[38;5;241m.\u001b[39mexecute(driver_command, params)\n\u001b[0;32m    429\u001b[0m \u001b[38;5;28;01mif\u001b[39;00m response:\n\u001b[1;32m--> 430\u001b[0m     \u001b[38;5;28;43mself\u001b[39;49m\u001b[38;5;241;43m.\u001b[39;49m\u001b[43merror_handler\u001b[49m\u001b[38;5;241;43m.\u001b[39;49m\u001b[43mcheck_response\u001b[49m\u001b[43m(\u001b[49m\u001b[43mresponse\u001b[49m\u001b[43m)\u001b[49m\n\u001b[0;32m    431\u001b[0m     response[\u001b[38;5;124m'\u001b[39m\u001b[38;5;124mvalue\u001b[39m\u001b[38;5;124m'\u001b[39m] \u001b[38;5;241m=\u001b[39m \u001b[38;5;28mself\u001b[39m\u001b[38;5;241m.\u001b[39m_unwrap_value(\n\u001b[0;32m    432\u001b[0m         response\u001b[38;5;241m.\u001b[39mget(\u001b[38;5;124m'\u001b[39m\u001b[38;5;124mvalue\u001b[39m\u001b[38;5;124m'\u001b[39m, \u001b[38;5;28;01mNone\u001b[39;00m))\n\u001b[0;32m    433\u001b[0m     \u001b[38;5;28;01mreturn\u001b[39;00m response\n",
      "File \u001b[1;32m~\\AppData\\Local\\Programs\\Python\\Python310\\lib\\site-packages\\selenium\\webdriver\\remote\\errorhandler.py:247\u001b[0m, in \u001b[0;36mErrorHandler.check_response\u001b[1;34m(self, response)\u001b[0m\n\u001b[0;32m    245\u001b[0m         alert_text \u001b[38;5;241m=\u001b[39m value[\u001b[38;5;124m'\u001b[39m\u001b[38;5;124malert\u001b[39m\u001b[38;5;124m'\u001b[39m]\u001b[38;5;241m.\u001b[39mget(\u001b[38;5;124m'\u001b[39m\u001b[38;5;124mtext\u001b[39m\u001b[38;5;124m'\u001b[39m)\n\u001b[0;32m    246\u001b[0m     \u001b[38;5;28;01mraise\u001b[39;00m exception_class(message, screen, stacktrace, alert_text)  \u001b[38;5;66;03m# type: ignore[call-arg]  # mypy is not smart enough here\u001b[39;00m\n\u001b[1;32m--> 247\u001b[0m \u001b[38;5;28;01mraise\u001b[39;00m exception_class(message, screen, stacktrace)\n",
      "\u001b[1;31mWebDriverException\u001b[0m: Message: chrome not reachable\n  (Session info: chrome=102.0.5005.115)\nStacktrace:\nBacktrace:\n\tOrdinal0 [0x0050D953+2414931]\n\tOrdinal0 [0x0049F5E1+1963489]\n\tOrdinal0 [0x0038C580+836992]\n\tOrdinal0 [0x003801E2+786914]\n\tOrdinal0 [0x00380A18+789016]\n\tOrdinal0 [0x003822F2+795378]\n\tOrdinal0 [0x0037BCA9+769193]\n\tOrdinal0 [0x0038DA30+842288]\n\tOrdinal0 [0x003E3FF2+1196018]\n\tOrdinal0 [0x003D42B6+1131190]\n\tOrdinal0 [0x003AE860+976992]\n\tOrdinal0 [0x003AF756+980822]\n\tGetHandleVerifier [0x0077CC62+2510274]\n\tGetHandleVerifier [0x0076F760+2455744]\n\tGetHandleVerifier [0x0059EABA+551962]\n\tGetHandleVerifier [0x0059D916+547446]\n\tOrdinal0 [0x004A5F3B+1990459]\n\tOrdinal0 [0x004AA898+2009240]\n\tOrdinal0 [0x004AA985+2009477]\n\tOrdinal0 [0x004B3AD1+2046673]\n\tBaseThreadInitThunk [0x7680FA29+25]\n\tRtlGetAppContainerNamedObjectPath [0x77047A9E+286]\n\tRtlGetAppContainerNamedObjectPath [0x77047A6E+238]\n"
     ]
    }
   ],
   "source": [
    "driver.get('https://www.instagram.com/kevin.salas03/')\n"
   ]
  },
  {
   "cell_type": "code",
   "execution_count": null,
   "id": "09ac2bad",
   "metadata": {},
   "outputs": [],
   "source": [
    "if"
   ]
  }
 ],
 "metadata": {
  "kernelspec": {
   "display_name": "Python 3 (ipykernel)",
   "language": "python",
   "name": "python3"
  },
  "language_info": {
   "codemirror_mode": {
    "name": "ipython",
    "version": 3
   },
   "file_extension": ".py",
   "mimetype": "text/x-python",
   "name": "python",
   "nbconvert_exporter": "python",
   "pygments_lexer": "ipython3",
   "version": "3.10.4"
  }
 },
 "nbformat": 4,
 "nbformat_minor": 5
}
